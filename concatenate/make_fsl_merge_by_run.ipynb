{
 "cells": [
  {
   "cell_type": "code",
   "execution_count": 12,
   "metadata": {},
   "outputs": [],
   "source": [
    "import os\n",
    "import glob\n",
    "import numpy as np\n",
    "import pandas as pd\n",
    "import pdb\n",
    "import csv"
   ]
  },
  {
   "cell_type": "code",
   "execution_count": 13,
   "metadata": {},
   "outputs": [],
   "source": [
    "basepath='/Users/jennygilbert/Documents/betaseries_bevel/concatenate/trial_logs'\n",
    "os.chdir(basepath)"
   ]
  },
  {
   "cell_type": "code",
   "execution_count": 14,
   "metadata": {},
   "outputs": [],
   "source": [
    "for file in glob.glob(os.path.join(basepath,'sub*.txt')):\n",
    "    #print(file)\n",
    "\n",
    "    sub=file.split('/')[7].split('_')[0]\n",
    "    run=file.split('/')[7].split('_')[1]\n",
    "    #print([sub,run])\n",
    "    \n",
    "    df = pd.read_csv(file, sep=\"\\t\", header=None)\n",
    "    df.columns = [\"trial_num\", \"reinforcer\"] \n",
    "    #pdb.set_trace()\n",
    "    \n",
    "    reward_trial_nums = df[df['reinforcer'] == 'reward']\n",
    "    reward_trial_nums = reward_trial_nums['trial_num']\n",
    "    reward_trials = reward_trial_nums.values.tolist()\n",
    "    \n",
    "    punish_trial_nums = df[df['reinforcer'] == 'punishment']\n",
    "    punish_trial_nums = punish_trial_nums['trial_num']\n",
    "    punish_trials = punish_trial_nums.values.tolist()\n",
    "    \n",
    "    path1='/Users/jennygilbert/Documents/betaseries_bevel/concatenate/%s_%s_reward.txt'%(sub,run) \n",
    "    path2='/Users/jennygilbert/Documents/betaseries_bevel/concatenate/%s_%s_punish.txt'%(sub,run)\n",
    "    \n",
    "    f_make=open(path1, 'w')\n",
    "    f_make.write('/projects/niblab/modules/software/fsl/5.0.10/bin/fslmerge -t /projects/niblab/bids_projects/Experiments/Bevel/derivatives/betaseries/concatenated/'+ sub + '_' + run + '_reward ')\n",
    "    for a in reward_trials:\n",
    "        f_make.write('/projects/niblab/bids_projects/Experiments/Bevel/derivatives/'+ sub +'/func/Analysis/feat1/betaseries/'+ run +'/'+ sub + '_' + run + '_trial-' + str(a)+'.feat/stats/pe1.nii.gz'+' ')\n",
    "    f_make.close()\n",
    "    \n",
    "    f_make=open(path2, 'w')\n",
    "    f_make.write('/projects/niblab/modules/software/fsl/5.0.10/bin/fslmerge -t /projects/niblab/bids_projects/Experiments/Bevel/derivatives/betaseries/concatenated/'+ sub + '_' + run +'_punish ')\n",
    "    for a in reward_trials:\n",
    "        f_make.write('/projects/niblab/bids_projects/Experiments/Bevel/derivatives/'+ sub +'/func/Analysis/feat1/betaseries/'+ run +'/'+ sub + '_' + run + '_trial-' + str(a)+'.feat/stats/pe1.nii.gz'+' ')\n",
    "    f_make.close()"
   ]
  },
  {
   "cell_type": "code",
   "execution_count": 15,
   "metadata": {},
   "outputs": [
    {
     "ename": "FileNotFoundError",
     "evalue": "[Errno 2] No such file or directory: 'sub-001_run-1_punish.txt'",
     "output_type": "error",
     "traceback": [
      "\u001b[0;31m---------------------------------------------------------------------------\u001b[0m",
      "\u001b[0;31mFileNotFoundError\u001b[0m                         Traceback (most recent call last)",
      "\u001b[0;32m<ipython-input-15-37a20e3f6718>\u001b[0m in \u001b[0;36m<module>\u001b[0;34m()\u001b[0m\n\u001b[1;32m      3\u001b[0m \u001b[0mcontent\u001b[0m \u001b[0;34m=\u001b[0m \u001b[0;34m''\u001b[0m\u001b[0;34m\u001b[0m\u001b[0m\n\u001b[1;32m      4\u001b[0m \u001b[0;32mfor\u001b[0m \u001b[0mf\u001b[0m \u001b[0;32min\u001b[0m \u001b[0mfilenames\u001b[0m\u001b[0;34m:\u001b[0m\u001b[0;34m\u001b[0m\u001b[0m\n\u001b[0;32m----> 5\u001b[0;31m     \u001b[0mcontent\u001b[0m \u001b[0;34m=\u001b[0m \u001b[0mcontent\u001b[0m \u001b[0;34m+\u001b[0m \u001b[0;34m'\\n'\u001b[0m \u001b[0;34m+\u001b[0m \u001b[0mopen\u001b[0m\u001b[0;34m(\u001b[0m\u001b[0mf\u001b[0m\u001b[0;34m)\u001b[0m\u001b[0;34m.\u001b[0m\u001b[0mread\u001b[0m\u001b[0;34m(\u001b[0m\u001b[0;34m)\u001b[0m\u001b[0;34m\u001b[0m\u001b[0m\n\u001b[0m\u001b[1;32m      6\u001b[0m \u001b[0mopen\u001b[0m\u001b[0;34m(\u001b[0m\u001b[0;34m'joined_file.txt'\u001b[0m\u001b[0;34m,\u001b[0m\u001b[0;34m'wb'\u001b[0m\u001b[0;34m)\u001b[0m\u001b[0;34m.\u001b[0m\u001b[0mwrite\u001b[0m\u001b[0;34m(\u001b[0m\u001b[0mcontent\u001b[0m\u001b[0;34m)\u001b[0m\u001b[0;34m\u001b[0m\u001b[0m\n",
      "\u001b[0;31mFileNotFoundError\u001b[0m: [Errno 2] No such file or directory: 'sub-001_run-1_punish.txt'"
     ]
    }
   ],
   "source": [
    "import os\n",
    "filenames = os.listdir('/Users/jennygilbert/Documents/betaseries_bevel/concatenate/command_in_txt/')\n",
    "content = ''\n",
    "for f in filenames:\n",
    "    content = content + '\\n' + open(f).read()\n",
    "open('joined_file.txt','wb').write(content)"
   ]
  },
  {
   "cell_type": "code",
   "execution_count": null,
   "metadata": {},
   "outputs": [],
   "source": []
  }
 ],
 "metadata": {
  "kernelspec": {
   "display_name": "Python 3",
   "language": "python",
   "name": "python3"
  },
  "language_info": {
   "codemirror_mode": {
    "name": "ipython",
    "version": 3
   },
   "file_extension": ".py",
   "mimetype": "text/x-python",
   "name": "python",
   "nbconvert_exporter": "python",
   "pygments_lexer": "ipython3",
   "version": "3.6.5"
  }
 },
 "nbformat": 4,
 "nbformat_minor": 2
}
