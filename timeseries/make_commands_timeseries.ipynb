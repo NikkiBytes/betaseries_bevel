{
 "cells": [
  {
   "cell_type": "code",
   "execution_count": null,
   "metadata": {},
   "outputs": [],
   "source": [
    "import os\n",
    "import glob\n",
    "import numpy as np\n",
    "import pandas as pd\n",
    "import pdb\n",
    "import csv"
   ]
  },
  {
   "cell_type": "markdown",
   "metadata": {},
   "source": [
    "# Make Timeseries for Each ROI"
   ]
  },
  {
   "cell_type": "code",
   "execution_count": 2,
   "metadata": {},
   "outputs": [],
   "source": [
    "basepath='/Users/jennygilbert/Documents/betaseries_bevel/'\n",
    "os.chdir(basepath)"
   ]
  },
  {
   "cell_type": "code",
   "execution_count": 3,
   "metadata": {},
   "outputs": [],
   "source": [
    "filelist = glob.glob(os.path.join('/Users/jennygilbert/Documents/betaseries_bevel/concatenated_NIFTI_files', '*.nii.gz'))\n",
    "#print(filelist)"
   ]
  },
  {
   "cell_type": "code",
   "execution_count": 5,
   "metadata": {},
   "outputs": [],
   "source": [
    "ROI_list = glob.glob(os.path.join('/Users/jennygilbert/Documents/betaseries_bevel/seperate_ROIs_gust_atlas+_ace','*.nii.gz'))\n",
    "#print(ROI_list)\n",
    "\n",
    "for ROI in ROI_list:\n",
    "    ROI_name=ROI.split('/')[6].split('asym')[0]\n",
    "    #print(ROI_name)"
   ]
  },
  {
   "cell_type": "code",
   "execution_count": 5,
   "metadata": {},
   "outputs": [],
   "source": [
    "for file in filelist:\n",
    "    sub_condition=file.split('/')[6].split('.')[0]\n",
    "    #print(sub_condition)\n",
    "    \n",
    "    path1='/Users/jennygilbert/Documents/betaseries_bevel/timeseries/ts_command.txt'\n",
    "    \n",
    "    f_make=open(path1, \"a+\")\n",
    "    for ROI in ROI_list:\n",
    "        f_make.write('fslmeants -i '+ file + ' -o /Users/jennygilbert/Documents/betaseries_bevel/timeseries/'+ sub_condition + '_' + ROI +'.txt'+ ' -m ' + ROI + '\\n'+'\\n')\n",
    "    f_make.close()\n",
    "                 \n",
    "                 \n"
   ]
  },
  {
   "cell_type": "markdown",
   "metadata": {},
   "source": [
    "# Join Timeseries to make Participant Timeseries Matrixes"
   ]
  },
  {
   "cell_type": "code",
   "execution_count": 10,
   "metadata": {},
   "outputs": [
    {
     "ename": "SyntaxError",
     "evalue": "invalid syntax (<ipython-input-10-f61b7c76e3af>, line 8)",
     "output_type": "error",
     "traceback": [
      "\u001b[0;36m  File \u001b[0;32m\"<ipython-input-10-f61b7c76e3af>\"\u001b[0;36m, line \u001b[0;32m8\u001b[0m\n\u001b[0;31m    if sub=sub:\u001b[0m\n\u001b[0m          ^\u001b[0m\n\u001b[0;31mSyntaxError\u001b[0m\u001b[0;31m:\u001b[0m invalid syntax\n"
     ]
    }
   ],
   "source": [
    "ts_list = glob.glob(os.path.join('/Users/jennygilbert/Documents/betaseries_bevel/timeseries','*.txt'))\n",
    "#print(ts_list)\n",
    "\n",
    "for ts in ts_list:\n",
    "    sub=ts.split('/')[6].split('_')[0]\n",
    "    condition=ts.split('/')[6].split('_')[1]\n",
    "    \n",
    "    if ts.contains('sub-001_reward'):\n",
    "        \n",
    "        \n",
    "    "
   ]
  },
  {
   "cell_type": "code",
   "execution_count": null,
   "metadata": {},
   "outputs": [],
   "source": [
    "for file in ts_list:\n",
    "    if file.endswith('.csv'):\n",
    "        df = pd.read_csv(file)\n",
    "        df['filename'] = file\n",
    "        file_list.append(df)\n",
    "\n",
    "all_days = pd.concat(file_list, axis=0, ignore_index=True)"
   ]
  },
  {
   "cell_type": "code",
   "execution_count": null,
   "metadata": {},
   "outputs": [],
   "source": [
    "# create a dictionary with file names as keys\n",
    "# and for each file name the paths where they\n",
    "# were found\n",
    "file_paths = {}\n",
    "for root, dirs, files in os.walk('.'):\n",
    "    for f in files:\n",
    "        if f.endswith('.txt'):\n",
    "            if f not in file_paths:\n",
    "                file_paths[f] = []\n",
    "            file_paths[f].append(root)\n",
    "\n",
    "# for each file in the dictionary, concatenate\n",
    "# the content of the files in each directory\n",
    "# and write the merged content into a file\n",
    "# with the same name at the top directory\n",
    "for f, paths in file_paths.items():\n",
    "    txt = []\n",
    "    for p in paths:\n",
    "        with open(os.path.join(p, f)) as f2:\n",
    "            txt.append(f2.read())\n",
    "    with open(f, 'w') as f3:\n",
    "        f3.write(''.join(txt))"
   ]
  }
 ],
 "metadata": {
  "kernelspec": {
   "display_name": "Python 3",
   "language": "python",
   "name": "python3"
  },
  "language_info": {
   "codemirror_mode": {
    "name": "ipython",
    "version": 3
   },
   "file_extension": ".py",
   "mimetype": "text/x-python",
   "name": "python",
   "nbconvert_exporter": "python",
   "pygments_lexer": "ipython3",
   "version": "3.6.5"
  }
 },
 "nbformat": 4,
 "nbformat_minor": 2
}
