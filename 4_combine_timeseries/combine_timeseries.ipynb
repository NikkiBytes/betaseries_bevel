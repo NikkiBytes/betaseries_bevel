{
 "cells": [
  {
   "cell_type": "markdown",
   "metadata": {},
   "source": [
    "# Combine Timeseries into a matrix file (by condition, by participant) "
   ]
  },
  {
   "cell_type": "code",
   "execution_count": 1,
   "metadata": {},
   "outputs": [],
   "source": [
    "import os\n",
    "import glob\n",
    "import numpy as np\n",
    "import pandas as pd\n",
    "import pdb\n",
    "import csv"
   ]
  },
  {
   "cell_type": "code",
   "execution_count": 2,
   "metadata": {},
   "outputs": [],
   "source": [
    "path = '/Users/jennygilbert/Documents/betaseries_bevel/3_pull_timeseries/old_roi_txt'\n",
    "os.chdir(path)"
   ]
  },
  {
   "cell_type": "code",
   "execution_count": 4,
   "metadata": {},
   "outputs": [
    {
     "name": "stdout",
     "output_type": "stream",
     "text": [
      "['/Users/jennygilbert/Documents/betaseries_bevel/3_pull_timeseries/old_roi_txt/sub-001_punish_AI_35_23_-6_asymPREPspace.txt', '/Users/jennygilbert/Documents/betaseries_bevel/3_pull_timeseries/old_roi_txt/sub-001_punish_cent_op_51_-13_10_asymPREPspace.txt', '/Users/jennygilbert/Documents/betaseries_bevel/3_pull_timeseries/old_roi_txt/sub-001_punish_dACC_-6_37_35_asymPREPspace.txt', '/Users/jennygilbert/Documents/betaseries_bevel/3_pull_timeseries/old_roi_txt/sub-001_punish_dACC_0_27_41_asymPREPspace.txt', '/Users/jennygilbert/Documents/betaseries_bevel/3_pull_timeseries/old_roi_txt/sub-001_punish_dlPFC_25_30_52_asymPREPspace.txt', '/Users/jennygilbert/Documents/betaseries_bevel/3_pull_timeseries/old_roi_txt/sub-001_punish_fusi_-24_52_-10_asymPREPspace.txt', '/Users/jennygilbert/Documents/betaseries_bevel/3_pull_timeseries/old_roi_txt/sub-001_punish_insula_-43_-12_-6_asymPREPspace.txt', '/Users/jennygilbert/Documents/betaseries_bevel/3_pull_timeseries/old_roi_txt/sub-001_punish_insula_36_-9_14_asymPREPspace.txt', '/Users/jennygilbert/Documents/betaseries_bevel/3_pull_timeseries/old_roi_txt/sub-001_punish_lat_sup_vis_-23_-70_55_asymPREPspace.txt', '/Users/jennygilbert/Documents/betaseries_bevel/3_pull_timeseries/old_roi_txt/sub-001_punish_lat_sup_vis_-38_-77_34_asymPREPspace.txt', '/Users/jennygilbert/Documents/betaseries_bevel/3_pull_timeseries/old_roi_txt/sub-001_punish_lat_sup_vis_-43_-73_25_asymPREPspace.txt', '/Users/jennygilbert/Documents/betaseries_bevel/3_pull_timeseries/old_roi_txt/sub-001_punish_lat_vis_-54_-53_18_asymPREPspace.txt', '/Users/jennygilbert/Documents/betaseries_bevel/3_pull_timeseries/old_roi_txt/sub-001_punish_ling_fusi_14_-75_-10_asymPREPspace.txt', '/Users/jennygilbert/Documents/betaseries_bevel/3_pull_timeseries/old_roi_txt/sub-001_punish_ling_fusi_19_-65_-10_asymPREPspace.txt', '/Users/jennygilbert/Documents/betaseries_bevel/3_pull_timeseries/old_roi_txt/sub-001_punish_mOFC_-2_51_-1_asymPREPspace.txt', '/Users/jennygilbert/Documents/betaseries_bevel/3_pull_timeseries/old_roi_txt/sub-001_punish_oral_somat_-41_12_36_asymPREPspace.txt', '/Users/jennygilbert/Documents/betaseries_bevel/3_pull_timeseries/old_roi_txt/sub-001_punish_oral_somat_-53_-10_24_asymPREPspace.txt', '/Users/jennygilbert/Documents/betaseries_bevel/3_pull_timeseries/old_roi_txt/sub-001_punish_oral_somat_38_-17_45_asymPREPspace.txt', '/Users/jennygilbert/Documents/betaseries_bevel/3_pull_timeseries/old_roi_txt/sub-001_punish_oral_somat_51_-6_32_asymPREPspace.txt', '/Users/jennygilbert/Documents/betaseries_bevel/3_pull_timeseries/old_roi_txt/sub-001_punish_parahip_17_-31_-13_asymPREPspace.txt', '/Users/jennygilbert/Documents/betaseries_bevel/3_pull_timeseries/old_roi_txt/sub-001_punish_PCC_2_-44_33_asymPREPspace.txt', '/Users/jennygilbert/Documents/betaseries_bevel/3_pull_timeseries/old_roi_txt/sub-001_punish_PCC_7_-36_39_asymPREPspace.txt', '/Users/jennygilbert/Documents/betaseries_bevel/3_pull_timeseries/old_roi_txt/sub-001_punish_PCC_precun_-7_-55_27_asymPREPspace.txt', '/Users/jennygilbert/Documents/betaseries_bevel/3_pull_timeseries/old_roi_txt/sub-001_punish_post_insula_-36_27_14_asymPREPspace.txt', '/Users/jennygilbert/Documents/betaseries_bevel/3_pull_timeseries/old_roi_txt/sub-001_punish_precun_-11_-56_16_asymPREPspace.txt', '/Users/jennygilbert/Documents/betaseries_bevel/3_pull_timeseries/old_roi_txt/sub-001_punish_precun_6_-51_19_asymPREPspace.txt', '/Users/jennygilbert/Documents/betaseries_bevel/3_pull_timeseries/old_roi_txt/sub-001_punish_precun_6_-59_35_asymPREPspace.txt', '/Users/jennygilbert/Documents/betaseries_bevel/3_pull_timeseries/old_roi_txt/sub-001_punish_thal_-1_-13_-1_asymPREPspace.txt', '/Users/jennygilbert/Documents/betaseries_bevel/3_pull_timeseries/old_roi_txt/sub-001_punish_vent_striat_-14_22_-2_asymPREPspace.txt', '/Users/jennygilbert/Documents/betaseries_bevel/3_pull_timeseries/old_roi_txt/sub-001_punish_vent_striat_5_9_-3_asymPREPspace.txt']\n"
     ]
    }
   ],
   "source": [
    "sub = 'sub-001'\n",
    "shortlist = glob.glob(os.path.join('/Users/jennygilbert/Documents/betaseries_bevel/3_pull_timeseries/old_roi_txt/', sub +'_punish*.txt'))\n",
    "print(shortlist)"
   ]
  },
  {
   "cell_type": "code",
   "execution_count": 7,
   "metadata": {},
   "outputs": [],
   "source": [
    "for short in shortlist: \n",
    "    df1 = pd.read_csv(short, sep=\"\\n\", header=None)\n",
    "    df_long = pd.concat([df_long, df1], axis=1, sort=False)\n",
    "\n",
    "df_long.to_csv('/Users/jennygilbert/Documents/betaseries_bevel/3_pull_timeseries/old_roi_txt'+ sub + '.txt', header=None, index=None, sep='\\t')"
   ]
  },
  {
   "cell_type": "code",
   "execution_count": 9,
   "metadata": {},
   "outputs": [],
   "source": [
    "#make a list of files with the same subject number and same condition\n",
    "filelist = glob.glob(os.path.join('/Users/jennygilbert/Documents/betaseries_bevel/3_pull_timeseries/old_roi_txt','*.txt'))\n",
    "#print(filelist)\n",
    "\n",
    "for file in filelist:\n",
    "    sub=file.split('/')[7].split('_')[0]\n",
    "    condition=file.split('/')[7].split('_')[1]\n",
    "    \n",
    "    shortlist = glob.glob(os.path.join('/Users/jennygilbert/Documents/betaseries_bevel/3_pull_timeseries/old_roi_txt',sub + '_' + condition +'*.txt'))\n",
    "\n",
    "    df_long= pd.DataFrame()\n",
    "    for short in shortlist: \n",
    "        df1 = pd.read_csv(short, sep=\"\\n\", header=None)\n",
    "        df_long = pd.concat([df_long, df1], axis=1, sort=False)\n",
    "    \n",
    "    df_long.to_csv('/Users/jennygilbert/Documents/betaseries_bevel/4_combine_timeseries/'+ sub + '_' + condition + '.txt', header=None, index=None, sep='\\t')"
   ]
  },
  {
   "cell_type": "code",
   "execution_count": null,
   "metadata": {},
   "outputs": [],
   "source": []
  }
 ],
 "metadata": {
  "kernelspec": {
   "display_name": "Python 3",
   "language": "python",
   "name": "python3"
  },
  "language_info": {
   "codemirror_mode": {
    "name": "ipython",
    "version": 3
   },
   "file_extension": ".py",
   "mimetype": "text/x-python",
   "name": "python",
   "nbconvert_exporter": "python",
   "pygments_lexer": "ipython3",
   "version": "3.6.5"
  }
 },
 "nbformat": 4,
 "nbformat_minor": 2
}
