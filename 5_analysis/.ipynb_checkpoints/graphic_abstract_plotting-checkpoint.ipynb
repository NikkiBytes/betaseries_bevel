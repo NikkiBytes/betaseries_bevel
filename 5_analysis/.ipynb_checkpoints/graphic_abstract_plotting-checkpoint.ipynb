{
 "cells": [
  {
   "cell_type": "code",
   "execution_count": 68,
   "metadata": {},
   "outputs": [],
   "source": [
    "from scipy import stats\n",
    "import numpy as np"
   ]
  },
  {
   "cell_type": "code",
   "execution_count": 69,
   "metadata": {},
   "outputs": [],
   "source": [
    "matrix1 = np.loadtxt(open(\"/Users/jennygilbert/Documents/betaseries_bevel/reward_coor_mat.csv\", \"rb\"), delimiter=\",\")"
   ]
  },
  {
   "cell_type": "code",
   "execution_count": 70,
   "metadata": {},
   "outputs": [],
   "source": [
    "matrix2 = np.loadtxt(open(\"/Users/jennygilbert/Documents/betaseries_bevel/punish_coor_mat.csv\", \"rb\"), delimiter=\",\")"
   ]
  },
  {
   "cell_type": "code",
   "execution_count": 71,
   "metadata": {},
   "outputs": [
    {
     "data": {
      "text/plain": [
       "784"
      ]
     },
     "execution_count": 71,
     "metadata": {},
     "output_type": "execute_result"
    }
   ],
   "source": [
    "matrix1.size"
   ]
  },
  {
   "cell_type": "code",
   "execution_count": 72,
   "metadata": {},
   "outputs": [],
   "source": [
    "out = stats.ttest_rel(matrix1,matrix2)"
   ]
  },
  {
   "cell_type": "code",
   "execution_count": 73,
   "metadata": {},
   "outputs": [
    {
     "data": {
      "text/plain": [
       "Ttest_relResult(statistic=array([-5.10590811, -0.19301698, -0.60106548,  1.40752933,  0.95792479,\n",
       "        3.61009643, -1.03856054, -4.77732373, -0.05017146, -0.18298507,\n",
       "        0.40892051,  0.28853526, -1.6451698 , -2.0370422 ,  1.88986459,\n",
       "        1.85234564, -1.7515685 , -1.03740157, -2.83446016, -3.59982047,\n",
       "        0.6940447 , -3.2913862 ,  0.30210819, -1.02467813, -1.41392761,\n",
       "        1.57518611, -0.74934625,  1.10741614]), pvalue=array([2.29145517e-05, 8.48390275e-01, 5.52809540e-01, 1.70679590e-01,\n",
       "       3.46600372e-01, 1.22938682e-03, 3.08220974e-01, 5.54127451e-05,\n",
       "       9.60355079e-01, 8.56176868e-01, 6.85823537e-01, 7.75140643e-01,\n",
       "       1.11528795e-01, 5.15585867e-02, 6.95573709e-02, 7.49390312e-02,\n",
       "       9.12016233e-02, 3.08750745e-01, 8.58612641e-03, 1.26255002e-03,\n",
       "       4.93582958e-01, 2.78060107e-03, 7.64884553e-01, 3.14608492e-01,\n",
       "       1.68810762e-01, 1.26859674e-01, 4.60127978e-01, 2.77882636e-01]))"
      ]
     },
     "execution_count": 73,
     "metadata": {},
     "output_type": "execute_result"
    }
   ],
   "source": [
    "out\n",
    "### This isn't right -- its only 28 results == collapsing across the columns or rows! \n",
    "\n",
    "## We need more "
   ]
  },
  {
   "cell_type": "code",
   "execution_count": null,
   "metadata": {},
   "outputs": [],
   "source": []
  }
 ],
 "metadata": {
  "kernelspec": {
   "display_name": "Python 3",
   "language": "python",
   "name": "python3"
  },
  "language_info": {
   "codemirror_mode": {
    "name": "ipython",
    "version": 3
   },
   "file_extension": ".py",
   "mimetype": "text/x-python",
   "name": "python",
   "nbconvert_exporter": "python",
   "pygments_lexer": "ipython3",
   "version": "3.6.5"
  }
 },
 "nbformat": 4,
 "nbformat_minor": 2
}
