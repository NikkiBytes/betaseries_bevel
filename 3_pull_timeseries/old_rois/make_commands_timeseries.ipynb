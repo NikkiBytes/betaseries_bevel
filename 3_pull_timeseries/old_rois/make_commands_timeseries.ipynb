{
 "cells": [
  {
   "cell_type": "code",
   "execution_count": 1,
   "metadata": {},
   "outputs": [],
   "source": [
    "import os\n",
    "import glob\n",
    "import numpy as np\n",
    "import pandas as pd\n",
    "import pdb\n",
    "import csv"
   ]
  },
  {
   "cell_type": "markdown",
   "metadata": {},
   "source": [
    "# Make Timeseries for Each ROI"
   ]
  },
  {
   "cell_type": "code",
   "execution_count": 2,
   "metadata": {},
   "outputs": [],
   "source": [
    "basepath='/Users/jennygilbert/Documents/betaseries_bevel/'\n",
    "os.chdir(basepath)"
   ]
  },
  {
   "cell_type": "code",
   "execution_count": 3,
   "metadata": {},
   "outputs": [],
   "source": [
    "filelist = glob.glob(os.path.join('/Users/jennygilbert/Documents/betaseries_bevel/concatenated_NIFTI_files', '*.nii.gz'))\n",
    "#print(filelist)"
   ]
  },
  {
   "cell_type": "code",
   "execution_count": 4,
   "metadata": {},
   "outputs": [],
   "source": [
    "ROI_list = glob.glob(os.path.join('/Users/jennygilbert/Documents/betaseries_bevel/seperate_ROIs_gust_atlas_ace','*.nii.gz'))\n",
    "#print(ROI_list)\n",
    "\n",
    "for ROI in ROI_list:\n",
    "    ROI_name=ROI.split('/')[6].split('asym')[0]\n",
    "    #print(ROI_name)"
   ]
  },
  {
   "cell_type": "code",
   "execution_count": 5,
   "metadata": {},
   "outputs": [],
   "source": [
    "for file in filelist:\n",
    "    sub_condition=file.split('/')[6].split('.')[0]\n",
    "    #print(sub_condition)\n",
    "    \n",
    "    path1='/Users/jennygilbert/Documents/betaseries_bevel/3_pull_timeseries/ts_command.txt'\n",
    "    \n",
    "    f_make=open(path1, \"a+\")\n",
    "    for ROI in ROI_list:\n",
    "        f_make.write('fslmeants -i '+ file + ' -o /Users/jennygilbert/Documents/betaseries_bevel/3_pull_timeseries/'+ sub_condition + '_' + ROI +'.txt'+ ' -m ' + ROI + '\\n'+'\\n')\n",
    "    f_make.close()\n",
    "                 \n",
    "                 \n"
   ]
  },
  {
   "cell_type": "markdown",
   "metadata": {},
   "source": [
    "REMEMBER: \n",
    "\n",
    "You will need to find & replace the filepath part of the -o path because I couldnt figure out how to get it to work with the ROI names only. "
   ]
  }
 ],
 "metadata": {
  "kernelspec": {
   "display_name": "Python 3",
   "language": "python",
   "name": "python3"
  },
  "language_info": {
   "codemirror_mode": {
    "name": "ipython",
    "version": 3
   },
   "file_extension": ".py",
   "mimetype": "text/x-python",
   "name": "python",
   "nbconvert_exporter": "python",
   "pygments_lexer": "ipython3",
   "version": "3.6.5"
  }
 },
 "nbformat": 4,
 "nbformat_minor": 2
}
