{
 "cells": [
  {
   "cell_type": "code",
   "execution_count": 1,
   "metadata": {},
   "outputs": [],
   "source": [
    "import os\n",
    "import glob\n",
    "import numpy as np\n",
    "import pandas as pd\n",
    "import pdb\n",
    "import csv"
   ]
  },
  {
   "cell_type": "markdown",
   "metadata": {},
   "source": [
    "# Make Timeseries for Each ROI"
   ]
  },
  {
   "cell_type": "code",
   "execution_count": 2,
   "metadata": {},
   "outputs": [],
   "source": [
    "basepath='/Users/jennygilbert/Documents/betaseries_bevel/'\n",
    "os.chdir(basepath)"
   ]
  },
  {
   "cell_type": "code",
   "execution_count": 5,
   "metadata": {},
   "outputs": [
    {
     "name": "stdout",
     "output_type": "stream",
     "text": [
      "['/Users/jennygilbert/Documents/betaseries_bevel/concatenated_NIFTI_files/test.nii.gz']\n"
     ]
    }
   ],
   "source": [
    "filelist = glob.glob(os.path.join('/Users/jennygilbert/Documents/betaseries_bevel/concatenated_NIFTI_files', '*.nii.gz'))\n",
    "print(filelist)"
   ]
  },
  {
   "cell_type": "code",
   "execution_count": 6,
   "metadata": {},
   "outputs": [],
   "source": [
    "#ROI_list = glob.glob(os.path.join('/Users/jennygilbert/Documents/betaseries_bevel/3_pull_timeseries','*.nii.gz'))\n",
    "#print(ROI_list)\n",
    "\n",
    "#for ROI in ROI_list:\n",
    "    #ROI_name=ROI.split('/')[6].split('asym')[0]\n",
    "    #print(ROI_name)"
   ]
  },
  {
   "cell_type": "code",
   "execution_count": 20,
   "metadata": {},
   "outputs": [
    {
     "name": "stdout",
     "output_type": "stream",
     "text": [
      "['Region', 'Amygdala_L', 'Amygdala_R', 'Dorsal_striatum_L', 'Dorsal_striatum_R', 'Fusiform_gyrus_L', 'Fusiform_gyrus_R', 'Hippocampus_L', 'Hippocampus_R', 'Insula_L', 'Insula_R', 'Intracalcarine_cortex_L', 'Intracalcarine_cortex_R', 'lOFC_R', 'lOFC_R', 'mOFC_L', 'mOFC_R', 'Oral_somatosensory_cortex_R', 'Oral_somatosensory_cortex_L', 'Precuneus_L', 'Precuneus_R', 'Ventral_striatum_L', 'Ventral_striatum_R', 'vlPFC_L', 'vlPFC_R', 'vlThalamus_L', 'vlThalamus_R', 'vmPFC_L', 'vmPFC_R']\n",
      "['x_coor', '-20', '20', '-12', '13', '-33', '27', '-26', '25', '-36', '38', '-8', '5', '-21', '24', '-31', '27', '-42', '40', '-7', '13', '-10', '10', '-42', '43', '-14', '14', '-5', '6']\n",
      "['y_coor', '-2', '-2', '17', '17', '-37', '-60', '-12', '-11', '2', '10', '-79', '-78', '41', '32', '19', '16', '-17', '-20', '-59', '-62', '17', '16', '46', '48', '-20', '-20', '43', '42']\n",
      "['z_coor', '-22', '-23', '-4', '-5', '-16', '-8', '-22', '-23', '4', '4', '7', '7', '-20', '-18', '-19', '-17', '53', '53', '26', '28', '7', '7', '-1', '-6', '0', '0', '-8', '-4']\n"
     ]
    }
   ],
   "source": [
    "with open('/Users/jennygilbert/Documents/betaseries_bevel/3_pull_timeseries/betaseries_rois.txt', 'r') as file:\n",
    "    ROI = []\n",
    "    X = []\n",
    "    Y = []\n",
    "    Z = []\n",
    "    for line in file:\n",
    "        spl = line.split()\n",
    "        ROI.append(spl[0])\n",
    "        X.append(spl[1])\n",
    "        Y.append(spl[2])\n",
    "        Z.append(spl[3])\n",
    "\n",
    "print(ROI)\n",
    "print(X)\n",
    "print(Y)\n",
    "print(Z)"
   ]
  },
  {
   "cell_type": "code",
   "execution_count": 22,
   "metadata": {},
   "outputs": [],
   "source": [
    "for file in filelist:\n",
    "    sub_condition=file.split('/')[6].split('.')[0]\n",
    "    #print(sub_condition)\n",
    "    \n",
    "    path1='/Users/jennygilbert/Documents/betaseries_bevel/3_pull_timeseries/ts_command_sept.txt'\n",
    "    \n",
    "    f_make=open(path1, \"a+\")\n",
    "    for a,b,c,d in zip(ROI,X,Y,Z):\n",
    "        f_make.write('fslmeants -i '+ file + ' -o /Users/jennygilbert/Documents/betaseries_bevel/3_pull_timeseries/sept/'\n",
    "                     + sub_condition + '_' + str(a) +'.txt'+ ' -c ' + str(b) + ' ' + str(c) + ' ' + str(d) + ' --usemm' + '\\n'+'\\n')\n",
    "    f_make.close()"
   ]
  },
  {
   "cell_type": "markdown",
   "metadata": {},
   "source": []
  }
 ],
 "metadata": {
  "kernelspec": {
   "display_name": "Python 3",
   "language": "python",
   "name": "python3"
  },
  "language_info": {
   "codemirror_mode": {
    "name": "ipython",
    "version": 3
   },
   "file_extension": ".py",
   "mimetype": "text/x-python",
   "name": "python",
   "nbconvert_exporter": "python",
   "pygments_lexer": "ipython3",
   "version": "3.6.5"
  }
 },
 "nbformat": 4,
 "nbformat_minor": 2
}
