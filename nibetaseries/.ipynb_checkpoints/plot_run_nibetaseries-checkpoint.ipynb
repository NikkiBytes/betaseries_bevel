{
 "cells": [
  {
   "cell_type": "code",
   "execution_count": null,
   "metadata": {},
   "outputs": [],
   "source": [
    "%matplotlib inline"
   ]
  },
  {
   "cell_type": "markdown",
   "metadata": {},
   "source": [
    "\n",
    "Running NiBetaSeries\n",
    "====================\n",
    "\n",
    "This example runs through a basic call of NiBetaSeries using\n",
    "the commandline entry point ``nibs``.\n",
    "While this example is using python, typically ``nibs`` will be\n",
    "called directly on the commandline.\n"
   ]
  },
  {
   "cell_type": "markdown",
   "metadata": {},
   "source": [
    "Import all the necessary packages\n",
    "=================================\n",
    "\n"
   ]
  },
  {
   "cell_type": "code",
   "execution_count": 1,
   "metadata": {},
   "outputs": [],
   "source": [
    "import tempfile  # make a temporary directory for files\n",
    "import os  # interact with the filesystem\n",
    "import urllib.request  # grad data from internet\n",
    "import tarfile  # extract files from tar\n",
    "from subprocess import Popen, PIPE, STDOUT  # enable calling commandline\n",
    "\n",
    "import matplotlib.pyplot as plt  # manipulate figures\n",
    "import seaborn as sns  # display results\n",
    "import pandas as pd   # manipulate tabular data"
   ]
  },
  {
   "cell_type": "markdown",
   "metadata": {},
   "source": [
    "Download relevant data from ds000164 (and Atlas Files)\n",
    "======================================================\n",
    "The subject data came from `openneuro <https://openneuro.org/datasets/ds000164/versions/00001/>`_\n",
    ":cite:`n-Verstynen2014`.\n",
    "The atlas data came from a `recently published parcellation <https://www.ncbi.nlm.nih.gov/pubmed/28981612>`_\n",
    "in a publically accessible github repository.\n",
    "\n"
   ]
  },
  {
   "cell_type": "code",
   "execution_count": 2,
   "metadata": {},
   "outputs": [
    {
     "name": "stdout",
     "output_type": "stream",
     "text": [
      "Our working directory: /var/folders/4j/sjbx9bj16538h292gjdpvrt00000gp/T/tmp72fb7iep\n"
     ]
    }
   ],
   "source": [
    "# atlas github repo for reference:\n",
    "\"\"\"https://github.com/ThomasYeoLab/CBIG/raw/master/stable_projects/\\\n",
    "brain_parcellation/Schaefer2018_LocalGlobal/Parcellations/MNI/\"\"\"\n",
    "data_dir = tempfile.mkdtemp()\n",
    "print('Our working directory: {}'.format(data_dir))\n",
    "\n",
    "# download the tar data\n",
    "url = \"https://www.dropbox.com/s/qoqbiya1ou7vi78/ds000164-test_v1.tar.gz?dl=1\"\n",
    "tar_file = os.path.join(data_dir, \"ds000164.tar.gz\")\n",
    "u = urllib.request.urlopen(url)\n",
    "data = u.read()\n",
    "u.close()\n",
    "\n",
    "# write tar data to file\n",
    "with open(tar_file, \"wb\") as f:\n",
    "    f.write(data)\n",
    "\n",
    "# extract the data\n",
    "tar = tarfile.open(tar_file, mode='r|gz')\n",
    "tar.extractall(path=data_dir)\n",
    "\n",
    "os.remove(tar_file)"
   ]
  },
  {
   "cell_type": "markdown",
   "metadata": {},
   "source": [
    "Display the minimal dataset necessary to run nibs\n",
    "=================================================\n",
    "\n"
   ]
  },
  {
   "cell_type": "code",
   "execution_count": null,
   "metadata": {},
   "outputs": [],
   "source": [
    "# https://stackoverflow.com/questions/9727673/list-directory-tree-structure-in-python\n",
    "def list_files(startpath):\n",
    "    for root, dirs, files in os.walk(startpath):\n",
    "        level = root.replace(startpath, '').count(os.sep)\n",
    "        indent = ' ' * 4 * (level)\n",
    "        print('{}{}/'.format(indent, os.path.basename(root)))\n",
    "        subindent = ' ' * 4 * (level + 1)\n",
    "        for f in files:\n",
    "            print('{}{}'.format(subindent, f))\n",
    "\n",
    "\n",
    "list_files(data_dir)"
   ]
  },
  {
   "cell_type": "markdown",
   "metadata": {},
   "source": [
    "Manipulate events file so it satifies assumptions\n",
    "=================================================\n",
    "1. the correct column has 1's and 0's corresponding to correct and incorrect,\n",
    "respectively.\n",
    "2. the condition column is renamed to trial_type\n",
    "nibs currently depends on the \"correct\" column being binary\n",
    "and the \"trial_type\" column to contain the trial types of interest.\n",
    "\n"
   ]
  },
  {
   "cell_type": "markdown",
   "metadata": {},
   "source": [
    "read the file\n",
    "-------------\n",
    "\n"
   ]
  },
  {
   "cell_type": "code",
   "execution_count": null,
   "metadata": {},
   "outputs": [],
   "source": [
    "events_file = os.path.join(data_dir,\n",
    "                           \"ds000164\",\n",
    "                           \"sub-001\",\n",
    "                           \"func\",\n",
    "                           \"sub-001_task-stroop_events.tsv\")\n",
    "events_df = pd.read_csv(events_file, sep='\\t', na_values=\"n/a\")\n",
    "print(events_df.head())"
   ]
  },
  {
   "cell_type": "markdown",
   "metadata": {},
   "source": [
    "replace condition with trial_type\n",
    "---------------------------------\n",
    "\n"
   ]
  },
  {
   "cell_type": "code",
   "execution_count": null,
   "metadata": {},
   "outputs": [],
   "source": [
    "events_df.rename({\"condition\": \"trial_type\"}, axis='columns', inplace=True)\n",
    "print(events_df.head())"
   ]
  },
  {
   "cell_type": "markdown",
   "metadata": {},
   "source": [
    "save the file\n",
    "-------------\n",
    "\n"
   ]
  },
  {
   "cell_type": "code",
   "execution_count": null,
   "metadata": {},
   "outputs": [],
   "source": [
    "events_df.to_csv(events_file, sep=\"\\t\", na_rep=\"n/a\", index=False)"
   ]
  },
  {
   "cell_type": "markdown",
   "metadata": {},
   "source": [
    "Manipulate the region order file\n",
    "================================\n",
    "There are several adjustments to the atlas file that need to be completed\n",
    "before we can pass it into nibs.\n",
    "Importantly, the relevant column names **MUST** be named \"index\" and \"regions\".\n",
    "\"index\" refers to which integer within the file corresponds to which region\n",
    "in the atlas nifti file.\n",
    "\"regions\" refers the name of each region in the atlas nifti file.\n",
    "\n"
   ]
  },
  {
   "cell_type": "markdown",
   "metadata": {},
   "source": [
    "read the atlas file\n",
    "-------------------\n",
    "\n"
   ]
  },
  {
   "cell_type": "code",
   "execution_count": null,
   "metadata": {},
   "outputs": [],
   "source": [
    "atlas_txt = os.path.join(data_dir,\n",
    "                         \"ds000164\",\n",
    "                         \"derivatives\",\n",
    "                         \"data\",\n",
    "                         \"Schaefer2018_100Parcels_7Networks_order.txt\")\n",
    "atlas_df = pd.read_csv(atlas_txt, sep=\"\\t\", header=None)\n",
    "print(atlas_df.head())"
   ]
  },
  {
   "cell_type": "markdown",
   "metadata": {},
   "source": [
    "drop coordinate columns\n",
    "-----------------------\n",
    "\n"
   ]
  },
  {
   "cell_type": "code",
   "execution_count": null,
   "metadata": {},
   "outputs": [],
   "source": [
    "atlas_df.drop([2, 3, 4, 5], axis='columns', inplace=True)\n",
    "print(atlas_df.head())"
   ]
  },
  {
   "cell_type": "markdown",
   "metadata": {},
   "source": [
    "rename columns with the approved headings: \"index\" and \"regions\"\n",
    "----------------------------------------------------------------\n",
    "\n"
   ]
  },
  {
   "cell_type": "code",
   "execution_count": null,
   "metadata": {},
   "outputs": [],
   "source": [
    "atlas_df.rename({0: 'index', 1: 'regions'}, axis='columns', inplace=True)\n",
    "print(atlas_df.head())"
   ]
  },
  {
   "cell_type": "markdown",
   "metadata": {},
   "source": [
    "remove prefix \"7Networks\"\n",
    "-------------------------\n",
    "\n"
   ]
  },
  {
   "cell_type": "code",
   "execution_count": null,
   "metadata": {},
   "outputs": [],
   "source": [
    "atlas_df.replace(regex={'7Networks_(.*)': '\\\\1'}, inplace=True)\n",
    "print(atlas_df.head())"
   ]
  },
  {
   "cell_type": "markdown",
   "metadata": {},
   "source": [
    "write out the file as .tsv\n",
    "--------------------------\n",
    "\n"
   ]
  },
  {
   "cell_type": "code",
   "execution_count": null,
   "metadata": {},
   "outputs": [],
   "source": [
    "atlas_tsv = atlas_txt.replace(\".txt\", \".tsv\")\n",
    "atlas_df.to_csv(atlas_tsv, sep=\"\\t\", index=False)"
   ]
  },
  {
   "cell_type": "markdown",
   "metadata": {},
   "source": [
    "Run nibs\n",
    "========\n",
    "\n"
   ]
  },
  {
   "cell_type": "code",
   "execution_count": null,
   "metadata": {},
   "outputs": [],
   "source": [
    "out_dir = os.path.join(data_dir, \"ds000164\", \"derivatives\")\n",
    "work_dir = os.path.join(out_dir, \"work\")\n",
    "atlas_mni_file = os.path.join(data_dir,\n",
    "                              \"ds000164\",\n",
    "                              \"derivatives\",\n",
    "                              \"data\",\n",
    "                              \"Schaefer2018_100Parcels_7Networks_order_FSLMNI152_2mm.nii.gz\")\n",
    "cmd = \"\"\"\\\n",
    "nibs -c WhiteMatter CSF \\\n",
    "--participant-label 001 \\\n",
    "-w {work_dir} \\\n",
    "-a {atlas_mni_file} \\\n",
    "-l {atlas_tsv} \\\n",
    "{bids_dir} \\\n",
    "fmriprep \\\n",
    "{out_dir} \\\n",
    "participant\n",
    "\"\"\".format(atlas_mni_file=atlas_mni_file,\n",
    "           atlas_tsv=atlas_tsv,\n",
    "           bids_dir=os.path.join(data_dir, \"ds000164\"),\n",
    "           out_dir=out_dir,\n",
    "           work_dir=work_dir)\n",
    "\n",
    "# Since we cannot run bash commands inside this tutorial\n",
    "# we are printing the actual bash command so you can see it\n",
    "# in the output\n",
    "print(\"The Example Command:\\n\", cmd)\n",
    "\n",
    "# call nibs\n",
    "p = Popen(cmd, shell=True, stdout=PIPE, stderr=STDOUT)\n",
    "\n",
    "while True:\n",
    "    line = p.stdout.readline()\n",
    "    if not line:\n",
    "        break\n",
    "    print(line)"
   ]
  },
  {
   "cell_type": "markdown",
   "metadata": {},
   "source": [
    "Observe generated outputs\n",
    "=========================\n",
    "\n"
   ]
  },
  {
   "cell_type": "code",
   "execution_count": null,
   "metadata": {},
   "outputs": [],
   "source": [
    "list_files(data_dir)"
   ]
  },
  {
   "cell_type": "markdown",
   "metadata": {},
   "source": [
    "Collect results\n",
    "===============\n",
    "\n"
   ]
  },
  {
   "cell_type": "code",
   "execution_count": null,
   "metadata": {},
   "outputs": [],
   "source": [
    "corr_mat_path = os.path.join(out_dir, \"NiBetaSeries\", \"nibetaseries\", \"sub-001\", \"func\")\n",
    "trial_types = ['congruent', 'incongruent', 'neutral']\n",
    "filename_template = \"sub-001_task-stroop_bold_space-MNI152NLin2009cAsym_preproc_trialtype-{trial_type}_matrix.tsv\"\n",
    "pd_dict = {}\n",
    "for trial_type in trial_types:\n",
    "    file_path = os.path.join(corr_mat_path, filename_template.format(trial_type=trial_type))\n",
    "    pd_dict[trial_type] = pd.read_csv(file_path, sep='\\t', na_values=\"n/a\", index_col=0)\n",
    "# display example matrix\n",
    "print(pd_dict[trial_type].head())"
   ]
  },
  {
   "cell_type": "markdown",
   "metadata": {},
   "source": [
    "Graph the results\n",
    "=================\n",
    "\n"
   ]
  },
  {
   "cell_type": "code",
   "execution_count": null,
   "metadata": {},
   "outputs": [],
   "source": [
    "fig, axes = plt.subplots(nrows=3, ncols=1, sharex=True, sharey=True, figsize=(10, 30),\n",
    "                         gridspec_kw={'wspace': 0.025, 'hspace': 0.075})\n",
    "\n",
    "cbar_ax = fig.add_axes([.91, .3, .03, .4])\n",
    "r = 0\n",
    "for trial_type, df in pd_dict.items():\n",
    "    g = sns.heatmap(df, ax=axes[r], vmin=-.5, vmax=1., square=True,\n",
    "                    cbar=True, cbar_ax=cbar_ax)\n",
    "    axes[r].set_title(trial_type)\n",
    "    # iterate over rows\n",
    "    r += 1\n",
    "plt.tight_layout()"
   ]
  },
  {
   "cell_type": "markdown",
   "metadata": {},
   "source": [
    "References\n",
    "==========\n",
    ".. bibliography:: ../references.bib\n",
    "   :style: plain\n",
    "   :labelprefix: notebook-\n",
    "   :keyprefix: n-\n",
    "\n",
    "\n"
   ]
  }
 ],
 "metadata": {
  "kernelspec": {
   "display_name": "Python 3",
   "language": "python",
   "name": "python3"
  },
  "language_info": {
   "codemirror_mode": {
    "name": "ipython",
    "version": 3
   },
   "file_extension": ".py",
   "mimetype": "text/x-python",
   "name": "python",
   "nbconvert_exporter": "python",
   "pygments_lexer": "ipython3",
   "version": "3.6.5"
  }
 },
 "nbformat": 4,
 "nbformat_minor": 1
}
