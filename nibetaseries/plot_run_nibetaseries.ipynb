{
 "cells": [
  {
   "cell_type": "code",
   "execution_count": null,
   "metadata": {},
   "outputs": [],
   "source": [
    "%matplotlib inline"
   ]
  },
  {
   "cell_type": "markdown",
   "metadata": {},
   "source": [
    "\n",
    "Running NiBetaSeries\n",
    "====================\n",
    "\n",
    "This example runs through a basic call of NiBetaSeries using\n",
    "the commandline entry point ``nibs``.\n",
    "While this example is using python, typically ``nibs`` will be\n",
    "called directly on the commandline.\n"
   ]
  },
  {
   "cell_type": "markdown",
   "metadata": {},
   "source": [
    "Import all the necessary packages\n",
    "=================================\n",
    "\n"
   ]
  },
  {
   "cell_type": "code",
   "execution_count": 1,
   "metadata": {},
   "outputs": [],
   "source": [
    "import tempfile  # make a temporary directory for files\n",
    "import os  # interact with the filesystem\n",
    "import urllib.request  # grad data from internet\n",
    "import tarfile  # extract files from tar\n",
    "from subprocess import Popen, PIPE, STDOUT  # enable calling commandline\n",
    "\n",
    "import matplotlib.pyplot as plt  # manipulate figures\n",
    "import seaborn as sns  # display results\n",
    "import pandas as pd   # manipulate tabular data"
   ]
  },
  {
   "cell_type": "markdown",
   "metadata": {},
   "source": [
    "Download relevant data from ds000164 (and Atlas Files)\n",
    "======================================================\n",
    "The subject data came from `openneuro <https://openneuro.org/datasets/ds000164/versions/00001/>`_\n",
    ":cite:`n-Verstynen2014`.\n",
    "The atlas data came from a `recently published parcellation <https://www.ncbi.nlm.nih.gov/pubmed/28981612>`_\n",
    "in a publically accessible github repository.\n",
    "\n"
   ]
  },
  {
   "cell_type": "code",
   "execution_count": 3,
   "metadata": {},
   "outputs": [
    {
     "name": "stdout",
     "output_type": "stream",
     "text": [
      "Our working directory: /var/folders/4j/sjbx9bj16538h292gjdpvrt00000gp/T/tmphix8omqk\n"
     ]
    }
   ],
   "source": [
    "# atlas github repo for reference:\n",
    "\"\"\"https://github.com/ThomasYeoLab/CBIG/raw/master/stable_projects/\\\n",
    "brain_parcellation/Schaefer2018_LocalGlobal/Parcellations/MNI/\"\"\"\n",
    "data_dir = tempfile.mkdtemp()\n",
    "print('Our working directory: {}'.format(data_dir))\n",
    "\n",
    "# download the tar data\n",
    "url = \"https://www.dropbox.com/s/qoqbiya1ou7vi78/ds000164-test_v1.tar.gz?dl=1\"\n",
    "tar_file = os.path.join(data_dir, \"ds000164.tar.gz\")\n",
    "u = urllib.request.urlopen(url)\n",
    "data = u.read()\n",
    "u.close()\n",
    "\n",
    "# write tar data to file\n",
    "with open(tar_file, \"wb\") as f:\n",
    "    f.write(data)\n",
    "\n",
    "# extract the data\n",
    "tar = tarfile.open(tar_file, mode='r|gz')\n",
    "tar.extractall(path=data_dir)\n",
    "\n",
    "os.remove(tar_file)"
   ]
  },
  {
   "cell_type": "markdown",
   "metadata": {},
   "source": [
    "Display the minimal dataset necessary to run nibs\n",
    "=================================================\n",
    "\n"
   ]
  },
  {
   "cell_type": "code",
   "execution_count": 4,
   "metadata": {},
   "outputs": [
    {
     "name": "stdout",
     "output_type": "stream",
     "text": [
      "tmphix8omqk/\n",
      "    ds000164/\n",
      "        CHANGES\n",
      "        dataset_description.json\n",
      "        README\n",
      "        T1w.json\n",
      "        task-stroop_bold.json\n",
      "        task-stroop_events.json\n",
      "        derivatives/\n",
      "            data/\n",
      "                Schaefer2018_100Parcels_7Networks_order.txt\n",
      "                Schaefer2018_100Parcels_7Networks_order_FSLMNI152_2mm.nii.gz\n",
      "            fmriprep/\n",
      "                sub-001/\n",
      "                    func/\n",
      "                        sub-001_task-stroop_bold_confounds.tsv\n",
      "                        sub-001_task-stroop_bold_space-MNI152NLin2009cAsym_brainmask.nii.gz\n",
      "                        sub-001_task-stroop_bold_space-MNI152NLin2009cAsym_preproc.nii.gz\n",
      "        sub-001/\n",
      "            anat/\n",
      "                sub-001_T1w.nii.gz\n",
      "            func/\n",
      "                sub-001_task-stroop_bold.nii.gz\n",
      "                sub-001_task-stroop_events.tsv\n"
     ]
    }
   ],
   "source": [
    "# https://stackoverflow.com/questions/9727673/list-directory-tree-structure-in-python\n",
    "def list_files(startpath):\n",
    "    for root, dirs, files in os.walk(startpath):\n",
    "        level = root.replace(startpath, '').count(os.sep)\n",
    "        indent = ' ' * 4 * (level)\n",
    "        print('{}{}/'.format(indent, os.path.basename(root)))\n",
    "        subindent = ' ' * 4 * (level + 1)\n",
    "        for f in files:\n",
    "            print('{}{}'.format(subindent, f))\n",
    "\n",
    "\n",
    "list_files(data_dir)"
   ]
  },
  {
   "cell_type": "markdown",
   "metadata": {},
   "source": [
    "Manipulate events file so it satifies assumptions\n",
    "=================================================\n",
    "1. the correct column has 1's and 0's corresponding to correct and incorrect,\n",
    "respectively.\n",
    "2. the condition column is renamed to trial_type\n",
    "nibs currently depends on the \"correct\" column being binary\n",
    "and the \"trial_type\" column to contain the trial types of interest.\n",
    "\n"
   ]
  },
  {
   "cell_type": "markdown",
   "metadata": {},
   "source": [
    "read the file\n",
    "-------------\n",
    "\n"
   ]
  },
  {
   "cell_type": "code",
   "execution_count": 5,
   "metadata": {},
   "outputs": [
    {
     "name": "stdout",
     "output_type": "stream",
     "text": [
      "    onset  duration correct  condition  response_time\n",
      "0   0.342         1       Y    neutral          1.186\n",
      "1   3.345         1       Y  congruent          0.667\n",
      "2  12.346         1       Y  congruent          0.614\n",
      "3  15.349         1       Y    neutral          0.696\n",
      "4  18.350         1       Y    neutral          0.752\n"
     ]
    }
   ],
   "source": [
    "events_file = os.path.join(data_dir,\n",
    "                           \"ds000164\",\n",
    "                           \"sub-001\",\n",
    "                           \"func\",\n",
    "                           \"sub-001_task-stroop_events.tsv\")\n",
    "events_df = pd.read_csv(events_file, sep='\\t', na_values=\"n/a\")\n",
    "print(events_df.head())"
   ]
  },
  {
   "cell_type": "markdown",
   "metadata": {},
   "source": [
    "replace condition with trial_type\n",
    "---------------------------------\n",
    "\n"
   ]
  },
  {
   "cell_type": "code",
   "execution_count": 6,
   "metadata": {},
   "outputs": [
    {
     "name": "stdout",
     "output_type": "stream",
     "text": [
      "    onset  duration correct trial_type  response_time\n",
      "0   0.342         1       Y    neutral          1.186\n",
      "1   3.345         1       Y  congruent          0.667\n",
      "2  12.346         1       Y  congruent          0.614\n",
      "3  15.349         1       Y    neutral          0.696\n",
      "4  18.350         1       Y    neutral          0.752\n"
     ]
    }
   ],
   "source": [
    "events_df.rename({\"condition\": \"trial_type\"}, axis='columns', inplace=True)\n",
    "print(events_df.head())"
   ]
  },
  {
   "cell_type": "markdown",
   "metadata": {},
   "source": [
    "save the file\n",
    "-------------\n",
    "\n"
   ]
  },
  {
   "cell_type": "code",
   "execution_count": 7,
   "metadata": {},
   "outputs": [],
   "source": [
    "events_df.to_csv(events_file, sep=\"\\t\", na_rep=\"n/a\", index=False)"
   ]
  },
  {
   "cell_type": "markdown",
   "metadata": {},
   "source": [
    "Manipulate the region order file\n",
    "================================\n",
    "There are several adjustments to the atlas file that need to be completed\n",
    "before we can pass it into nibs.\n",
    "Importantly, the relevant column names **MUST** be named \"index\" and \"regions\".\n",
    "\"index\" refers to which integer within the file corresponds to which region\n",
    "in the atlas nifti file.\n",
    "\"regions\" refers the name of each region in the atlas nifti file.\n",
    "\n"
   ]
  },
  {
   "cell_type": "markdown",
   "metadata": {},
   "source": [
    "read the atlas file\n",
    "-------------------\n",
    "\n"
   ]
  },
  {
   "cell_type": "code",
   "execution_count": 8,
   "metadata": {},
   "outputs": [
    {
     "name": "stdout",
     "output_type": "stream",
     "text": [
      "   0                   1    2   3    4  5\n",
      "0  1  7Networks_LH_Vis_1  120  18  131  0\n",
      "1  2  7Networks_LH_Vis_2  120  18  132  0\n",
      "2  3  7Networks_LH_Vis_3  120  18  133  0\n",
      "3  4  7Networks_LH_Vis_4  120  18  135  0\n",
      "4  5  7Networks_LH_Vis_5  120  18  136  0\n"
     ]
    }
   ],
   "source": [
    "atlas_txt = os.path.join(data_dir,\n",
    "                         \"ds000164\",\n",
    "                         \"derivatives\",\n",
    "                         \"data\",\n",
    "                         \"Schaefer2018_100Parcels_7Networks_order.txt\")\n",
    "atlas_df = pd.read_csv(atlas_txt, sep=\"\\t\", header=None)\n",
    "print(atlas_df.head())"
   ]
  },
  {
   "cell_type": "markdown",
   "metadata": {},
   "source": [
    "drop coordinate columns\n",
    "-----------------------\n",
    "\n"
   ]
  },
  {
   "cell_type": "code",
   "execution_count": 9,
   "metadata": {},
   "outputs": [
    {
     "name": "stdout",
     "output_type": "stream",
     "text": [
      "   0                   1\n",
      "0  1  7Networks_LH_Vis_1\n",
      "1  2  7Networks_LH_Vis_2\n",
      "2  3  7Networks_LH_Vis_3\n",
      "3  4  7Networks_LH_Vis_4\n",
      "4  5  7Networks_LH_Vis_5\n"
     ]
    }
   ],
   "source": [
    "atlas_df.drop([2, 3, 4, 5], axis='columns', inplace=True)\n",
    "print(atlas_df.head())"
   ]
  },
  {
   "cell_type": "markdown",
   "metadata": {},
   "source": [
    "rename columns with the approved headings: \"index\" and \"regions\"\n",
    "----------------------------------------------------------------\n",
    "\n"
   ]
  },
  {
   "cell_type": "code",
   "execution_count": 10,
   "metadata": {},
   "outputs": [
    {
     "name": "stdout",
     "output_type": "stream",
     "text": [
      "   index             regions\n",
      "0      1  7Networks_LH_Vis_1\n",
      "1      2  7Networks_LH_Vis_2\n",
      "2      3  7Networks_LH_Vis_3\n",
      "3      4  7Networks_LH_Vis_4\n",
      "4      5  7Networks_LH_Vis_5\n"
     ]
    }
   ],
   "source": [
    "atlas_df.rename({0: 'index', 1: 'regions'}, axis='columns', inplace=True)\n",
    "print(atlas_df.head())"
   ]
  },
  {
   "cell_type": "markdown",
   "metadata": {},
   "source": [
    "remove prefix \"7Networks\"\n",
    "-------------------------\n",
    "\n"
   ]
  },
  {
   "cell_type": "code",
   "execution_count": 11,
   "metadata": {},
   "outputs": [
    {
     "name": "stdout",
     "output_type": "stream",
     "text": [
      "   index   regions\n",
      "0      1  LH_Vis_1\n",
      "1      2  LH_Vis_2\n",
      "2      3  LH_Vis_3\n",
      "3      4  LH_Vis_4\n",
      "4      5  LH_Vis_5\n"
     ]
    }
   ],
   "source": [
    "atlas_df.replace(regex={'7Networks_(.*)': '\\\\1'}, inplace=True)\n",
    "print(atlas_df.head())"
   ]
  },
  {
   "cell_type": "markdown",
   "metadata": {},
   "source": [
    "write out the file as .tsv\n",
    "--------------------------\n",
    "\n"
   ]
  },
  {
   "cell_type": "code",
   "execution_count": 12,
   "metadata": {},
   "outputs": [],
   "source": [
    "atlas_tsv = atlas_txt.replace(\".txt\", \".tsv\")\n",
    "atlas_df.to_csv(atlas_tsv, sep=\"\\t\", index=False)"
   ]
  },
  {
   "cell_type": "markdown",
   "metadata": {},
   "source": [
    "Run nibs\n",
    "========\n",
    "\n"
   ]
  },
  {
   "cell_type": "code",
   "execution_count": 17,
   "metadata": {},
   "outputs": [
    {
     "name": "stdout",
     "output_type": "stream",
     "text": [
      "The Example Command:\n",
      " nibs -c WhiteMatter CSF --participant-label 001 -w /var/folders/4j/sjbx9bj16538h292gjdpvrt00000gp/T/tmphix8omqk/ds000164/derivatives/work -a /var/folders/4j/sjbx9bj16538h292gjdpvrt00000gp/T/tmphix8omqk/ds000164/derivatives/data/Schaefer2018_100Parcels_7Networks_order_FSLMNI152_2mm.nii.gz -l /var/folders/4j/sjbx9bj16538h292gjdpvrt00000gp/T/tmphix8omqk/ds000164/derivatives/data/Schaefer2018_100Parcels_7Networks_order.tsv /var/folders/4j/sjbx9bj16538h292gjdpvrt00000gp/T/tmphix8omqk/ds000164 fmriprep /var/folders/4j/sjbx9bj16538h292gjdpvrt00000gp/T/tmphix8omqk/ds000164/derivatives participant\n",
      "\n",
      "b'/anaconda3/lib/python3.6/site-packages/h5py/__init__.py:36: FutureWarning: Conversion of the second argument of issubdtype from `float` to `np.floating` is deprecated. In future, it will be treated as `np.float64 == np.dtype(float).type`.\\n'\n",
      "b'  from ._conv import register_converters as _register_converters\\n'\n",
      "b'usage: nibs [-h] [-v] [-sm SMOOTHING_KERNEL] [-lp LOW_PASS]\\n'\n",
      "b'            [-c CONFOUNDS [CONFOUNDS ...]] [-w WORK_DIR]\\n'\n",
      "b'            [--participant_label PARTICIPANT_LABEL [PARTICIPANT_LABEL ...]]\\n'\n",
      "b'            [--session_label SESSION_LABEL] [-t TASK_LABEL]\\n'\n",
      "b'            [--run_label RUN_LABEL] [-sp {MNI152NLin2009cAsym}]\\n'\n",
      "b'            [--variant_label VARIANT_LABEL] [--exclude_variant_label]\\n'\n",
      "b'            [--hrf_model {glover,spm,fir,glover + derivative,glover + derivative + dispersion,spm + derivative,spm + derivative + dispersion}]\\n'\n",
      "b'            [-a ATLAS_IMG] -l ATLAS_LUT [--nthreads NTHREADS]\\n'\n",
      "b'            [--use-plugin USE_PLUGIN] [--graph]\\n'\n",
      "b'            bids_dir derivatives_pipeline output_dir {participant,group}\\n'\n",
      "b\"nibs: error: argument analysis_level: invalid choice: '/var/folders/4j/sjbx9bj16538h292gjdpvrt00000gp/T/tmphix8omqk/ds000164/derivatives' (choose from 'participant', 'group')\\n\"\n"
     ]
    }
   ],
   "source": [
    "out_dir = os.path.join(data_dir, \"ds000164\", \"derivatives\")\n",
    "work_dir = os.path.join(out_dir, \"work\")\n",
    "atlas_mni_file = os.path.join(data_dir,\n",
    "                              \"ds000164\",\n",
    "                              \"derivatives\",\n",
    "                              \"data\",\n",
    "                              \"Schaefer2018_100Parcels_7Networks_order_FSLMNI152_2mm.nii.gz\")\n",
    "cmd = \"\"\"\\\n",
    "nibs -c WhiteMatter CSF \\\n",
    "--participant-label 001 \\\n",
    "-w {work_dir} \\\n",
    "-a {atlas_mni_file} \\\n",
    "-l {atlas_tsv} \\\n",
    "{bids_dir} \\\n",
    "fmriprep \\\n",
    "{out_dir} \\\n",
    "participant\n",
    "\"\"\".format(atlas_mni_file=atlas_mni_file,\n",
    "           atlas_tsv=atlas_tsv,\n",
    "           bids_dir=os.path.join(data_dir, \"ds000164\"),\n",
    "           out_dir=out_dir,\n",
    "           work_dir=work_dir)\n",
    "\n",
    "# Since we cannot run bash commands inside this tutorial\n",
    "# we are printing the actual bash command so you can see it\n",
    "# in the output\n",
    "print(\"The Example Command:\\n\", cmd)\n",
    "\n",
    "# call nibs\n",
    "p = Popen(cmd, shell=True, stdout=PIPE, stderr=STDOUT)\n",
    "\n",
    "while True:\n",
    "    line = p.stdout.readline()\n",
    "    if not line:\n",
    "        break\n",
    "    print(line)"
   ]
  },
  {
   "cell_type": "markdown",
   "metadata": {},
   "source": [
    "Observe generated outputs\n",
    "=========================\n",
    "\n"
   ]
  },
  {
   "cell_type": "code",
   "execution_count": 14,
   "metadata": {},
   "outputs": [
    {
     "name": "stdout",
     "output_type": "stream",
     "text": [
      "tmphix8omqk/\n",
      "    ds000164/\n",
      "        CHANGES\n",
      "        dataset_description.json\n",
      "        README\n",
      "        T1w.json\n",
      "        task-stroop_bold.json\n",
      "        task-stroop_events.json\n",
      "        derivatives/\n",
      "            data/\n",
      "                Schaefer2018_100Parcels_7Networks_order.tsv\n",
      "                Schaefer2018_100Parcels_7Networks_order.txt\n",
      "                Schaefer2018_100Parcels_7Networks_order_FSLMNI152_2mm.nii.gz\n",
      "            fmriprep/\n",
      "                sub-001/\n",
      "                    func/\n",
      "                        sub-001_task-stroop_bold_confounds.tsv\n",
      "                        sub-001_task-stroop_bold_space-MNI152NLin2009cAsym_brainmask.nii.gz\n",
      "                        sub-001_task-stroop_bold_space-MNI152NLin2009cAsym_preproc.nii.gz\n",
      "        sub-001/\n",
      "            anat/\n",
      "                sub-001_T1w.nii.gz\n",
      "            func/\n",
      "                sub-001_task-stroop_bold.nii.gz\n",
      "                sub-001_task-stroop_events.tsv\n"
     ]
    }
   ],
   "source": [
    "list_files(data_dir)"
   ]
  },
  {
   "cell_type": "markdown",
   "metadata": {},
   "source": [
    "Collect results\n",
    "===============\n",
    "\n"
   ]
  },
  {
   "cell_type": "code",
   "execution_count": 15,
   "metadata": {},
   "outputs": [
    {
     "ename": "FileNotFoundError",
     "evalue": "[Errno 2] File b'/var/folders/4j/sjbx9bj16538h292gjdpvrt00000gp/T/tmphix8omqk/ds000164/derivatives/NiBetaSeries/nibetaseries/sub-001/func/sub-001_task-stroop_bold_space-MNI152NLin2009cAsym_preproc_trialtype-congruent_matrix.tsv' does not exist: b'/var/folders/4j/sjbx9bj16538h292gjdpvrt00000gp/T/tmphix8omqk/ds000164/derivatives/NiBetaSeries/nibetaseries/sub-001/func/sub-001_task-stroop_bold_space-MNI152NLin2009cAsym_preproc_trialtype-congruent_matrix.tsv'",
     "output_type": "error",
     "traceback": [
      "\u001b[0;31m---------------------------------------------------------------------------\u001b[0m",
      "\u001b[0;31mFileNotFoundError\u001b[0m                         Traceback (most recent call last)",
      "\u001b[0;32m<ipython-input-15-b33f460a50db>\u001b[0m in \u001b[0;36m<module>\u001b[0;34m()\u001b[0m\n\u001b[1;32m      5\u001b[0m \u001b[0;32mfor\u001b[0m \u001b[0mtrial_type\u001b[0m \u001b[0;32min\u001b[0m \u001b[0mtrial_types\u001b[0m\u001b[0;34m:\u001b[0m\u001b[0;34m\u001b[0m\u001b[0m\n\u001b[1;32m      6\u001b[0m     \u001b[0mfile_path\u001b[0m \u001b[0;34m=\u001b[0m \u001b[0mos\u001b[0m\u001b[0;34m.\u001b[0m\u001b[0mpath\u001b[0m\u001b[0;34m.\u001b[0m\u001b[0mjoin\u001b[0m\u001b[0;34m(\u001b[0m\u001b[0mcorr_mat_path\u001b[0m\u001b[0;34m,\u001b[0m \u001b[0mfilename_template\u001b[0m\u001b[0;34m.\u001b[0m\u001b[0mformat\u001b[0m\u001b[0;34m(\u001b[0m\u001b[0mtrial_type\u001b[0m\u001b[0;34m=\u001b[0m\u001b[0mtrial_type\u001b[0m\u001b[0;34m)\u001b[0m\u001b[0;34m)\u001b[0m\u001b[0;34m\u001b[0m\u001b[0m\n\u001b[0;32m----> 7\u001b[0;31m     \u001b[0mpd_dict\u001b[0m\u001b[0;34m[\u001b[0m\u001b[0mtrial_type\u001b[0m\u001b[0;34m]\u001b[0m \u001b[0;34m=\u001b[0m \u001b[0mpd\u001b[0m\u001b[0;34m.\u001b[0m\u001b[0mread_csv\u001b[0m\u001b[0;34m(\u001b[0m\u001b[0mfile_path\u001b[0m\u001b[0;34m,\u001b[0m \u001b[0msep\u001b[0m\u001b[0;34m=\u001b[0m\u001b[0;34m'\\t'\u001b[0m\u001b[0;34m,\u001b[0m \u001b[0mna_values\u001b[0m\u001b[0;34m=\u001b[0m\u001b[0;34m\"n/a\"\u001b[0m\u001b[0;34m,\u001b[0m \u001b[0mindex_col\u001b[0m\u001b[0;34m=\u001b[0m\u001b[0;36m0\u001b[0m\u001b[0;34m)\u001b[0m\u001b[0;34m\u001b[0m\u001b[0m\n\u001b[0m\u001b[1;32m      8\u001b[0m \u001b[0;31m# display example matrix\u001b[0m\u001b[0;34m\u001b[0m\u001b[0;34m\u001b[0m\u001b[0m\n\u001b[1;32m      9\u001b[0m \u001b[0mprint\u001b[0m\u001b[0;34m(\u001b[0m\u001b[0mpd_dict\u001b[0m\u001b[0;34m[\u001b[0m\u001b[0mtrial_type\u001b[0m\u001b[0;34m]\u001b[0m\u001b[0;34m.\u001b[0m\u001b[0mhead\u001b[0m\u001b[0;34m(\u001b[0m\u001b[0;34m)\u001b[0m\u001b[0;34m)\u001b[0m\u001b[0;34m\u001b[0m\u001b[0m\n",
      "\u001b[0;32m/anaconda3/lib/python3.6/site-packages/pandas/io/parsers.py\u001b[0m in \u001b[0;36mparser_f\u001b[0;34m(filepath_or_buffer, sep, delimiter, header, names, index_col, usecols, squeeze, prefix, mangle_dupe_cols, dtype, engine, converters, true_values, false_values, skipinitialspace, skiprows, skipfooter, nrows, na_values, keep_default_na, na_filter, verbose, skip_blank_lines, parse_dates, infer_datetime_format, keep_date_col, date_parser, dayfirst, iterator, chunksize, compression, thousands, decimal, lineterminator, quotechar, quoting, doublequote, escapechar, comment, encoding, dialect, tupleize_cols, error_bad_lines, warn_bad_lines, delim_whitespace, low_memory, memory_map, float_precision)\u001b[0m\n\u001b[1;32m    695\u001b[0m                     skip_blank_lines=skip_blank_lines)\n\u001b[1;32m    696\u001b[0m \u001b[0;34m\u001b[0m\u001b[0m\n\u001b[0;32m--> 697\u001b[0;31m         \u001b[0;32mreturn\u001b[0m \u001b[0m_read\u001b[0m\u001b[0;34m(\u001b[0m\u001b[0mfilepath_or_buffer\u001b[0m\u001b[0;34m,\u001b[0m \u001b[0mkwds\u001b[0m\u001b[0;34m)\u001b[0m\u001b[0;34m\u001b[0m\u001b[0m\n\u001b[0m\u001b[1;32m    698\u001b[0m \u001b[0;34m\u001b[0m\u001b[0m\n\u001b[1;32m    699\u001b[0m     \u001b[0mparser_f\u001b[0m\u001b[0;34m.\u001b[0m\u001b[0m__name__\u001b[0m \u001b[0;34m=\u001b[0m \u001b[0mname\u001b[0m\u001b[0;34m\u001b[0m\u001b[0m\n",
      "\u001b[0;32m/anaconda3/lib/python3.6/site-packages/pandas/io/parsers.py\u001b[0m in \u001b[0;36m_read\u001b[0;34m(filepath_or_buffer, kwds)\u001b[0m\n\u001b[1;32m    422\u001b[0m \u001b[0;34m\u001b[0m\u001b[0m\n\u001b[1;32m    423\u001b[0m     \u001b[0;31m# Create the parser.\u001b[0m\u001b[0;34m\u001b[0m\u001b[0;34m\u001b[0m\u001b[0m\n\u001b[0;32m--> 424\u001b[0;31m     \u001b[0mparser\u001b[0m \u001b[0;34m=\u001b[0m \u001b[0mTextFileReader\u001b[0m\u001b[0;34m(\u001b[0m\u001b[0mfilepath_or_buffer\u001b[0m\u001b[0;34m,\u001b[0m \u001b[0;34m**\u001b[0m\u001b[0mkwds\u001b[0m\u001b[0;34m)\u001b[0m\u001b[0;34m\u001b[0m\u001b[0m\n\u001b[0m\u001b[1;32m    425\u001b[0m \u001b[0;34m\u001b[0m\u001b[0m\n\u001b[1;32m    426\u001b[0m     \u001b[0;32mif\u001b[0m \u001b[0mchunksize\u001b[0m \u001b[0;32mor\u001b[0m \u001b[0miterator\u001b[0m\u001b[0;34m:\u001b[0m\u001b[0;34m\u001b[0m\u001b[0m\n",
      "\u001b[0;32m/anaconda3/lib/python3.6/site-packages/pandas/io/parsers.py\u001b[0m in \u001b[0;36m__init__\u001b[0;34m(self, f, engine, **kwds)\u001b[0m\n\u001b[1;32m    888\u001b[0m             \u001b[0mself\u001b[0m\u001b[0;34m.\u001b[0m\u001b[0moptions\u001b[0m\u001b[0;34m[\u001b[0m\u001b[0;34m'has_index_names'\u001b[0m\u001b[0;34m]\u001b[0m \u001b[0;34m=\u001b[0m \u001b[0mkwds\u001b[0m\u001b[0;34m[\u001b[0m\u001b[0;34m'has_index_names'\u001b[0m\u001b[0;34m]\u001b[0m\u001b[0;34m\u001b[0m\u001b[0m\n\u001b[1;32m    889\u001b[0m \u001b[0;34m\u001b[0m\u001b[0m\n\u001b[0;32m--> 890\u001b[0;31m         \u001b[0mself\u001b[0m\u001b[0;34m.\u001b[0m\u001b[0m_make_engine\u001b[0m\u001b[0;34m(\u001b[0m\u001b[0mself\u001b[0m\u001b[0;34m.\u001b[0m\u001b[0mengine\u001b[0m\u001b[0;34m)\u001b[0m\u001b[0;34m\u001b[0m\u001b[0m\n\u001b[0m\u001b[1;32m    891\u001b[0m \u001b[0;34m\u001b[0m\u001b[0m\n\u001b[1;32m    892\u001b[0m     \u001b[0;32mdef\u001b[0m \u001b[0mclose\u001b[0m\u001b[0;34m(\u001b[0m\u001b[0mself\u001b[0m\u001b[0;34m)\u001b[0m\u001b[0;34m:\u001b[0m\u001b[0;34m\u001b[0m\u001b[0m\n",
      "\u001b[0;32m/anaconda3/lib/python3.6/site-packages/pandas/io/parsers.py\u001b[0m in \u001b[0;36m_make_engine\u001b[0;34m(self, engine)\u001b[0m\n\u001b[1;32m   1115\u001b[0m     \u001b[0;32mdef\u001b[0m \u001b[0m_make_engine\u001b[0m\u001b[0;34m(\u001b[0m\u001b[0mself\u001b[0m\u001b[0;34m,\u001b[0m \u001b[0mengine\u001b[0m\u001b[0;34m=\u001b[0m\u001b[0;34m'c'\u001b[0m\u001b[0;34m)\u001b[0m\u001b[0;34m:\u001b[0m\u001b[0;34m\u001b[0m\u001b[0m\n\u001b[1;32m   1116\u001b[0m         \u001b[0;32mif\u001b[0m \u001b[0mengine\u001b[0m \u001b[0;34m==\u001b[0m \u001b[0;34m'c'\u001b[0m\u001b[0;34m:\u001b[0m\u001b[0;34m\u001b[0m\u001b[0m\n\u001b[0;32m-> 1117\u001b[0;31m             \u001b[0mself\u001b[0m\u001b[0;34m.\u001b[0m\u001b[0m_engine\u001b[0m \u001b[0;34m=\u001b[0m \u001b[0mCParserWrapper\u001b[0m\u001b[0;34m(\u001b[0m\u001b[0mself\u001b[0m\u001b[0;34m.\u001b[0m\u001b[0mf\u001b[0m\u001b[0;34m,\u001b[0m \u001b[0;34m**\u001b[0m\u001b[0mself\u001b[0m\u001b[0;34m.\u001b[0m\u001b[0moptions\u001b[0m\u001b[0;34m)\u001b[0m\u001b[0;34m\u001b[0m\u001b[0m\n\u001b[0m\u001b[1;32m   1118\u001b[0m         \u001b[0;32melse\u001b[0m\u001b[0;34m:\u001b[0m\u001b[0;34m\u001b[0m\u001b[0m\n\u001b[1;32m   1119\u001b[0m             \u001b[0;32mif\u001b[0m \u001b[0mengine\u001b[0m \u001b[0;34m==\u001b[0m \u001b[0;34m'python'\u001b[0m\u001b[0;34m:\u001b[0m\u001b[0;34m\u001b[0m\u001b[0m\n",
      "\u001b[0;32m/anaconda3/lib/python3.6/site-packages/pandas/io/parsers.py\u001b[0m in \u001b[0;36m__init__\u001b[0;34m(self, src, **kwds)\u001b[0m\n\u001b[1;32m   1846\u001b[0m         \u001b[0mkwds\u001b[0m\u001b[0;34m[\u001b[0m\u001b[0;34m'usecols'\u001b[0m\u001b[0;34m]\u001b[0m \u001b[0;34m=\u001b[0m \u001b[0mself\u001b[0m\u001b[0;34m.\u001b[0m\u001b[0musecols\u001b[0m\u001b[0;34m\u001b[0m\u001b[0m\n\u001b[1;32m   1847\u001b[0m \u001b[0;34m\u001b[0m\u001b[0m\n\u001b[0;32m-> 1848\u001b[0;31m         \u001b[0mself\u001b[0m\u001b[0;34m.\u001b[0m\u001b[0m_reader\u001b[0m \u001b[0;34m=\u001b[0m \u001b[0mparsers\u001b[0m\u001b[0;34m.\u001b[0m\u001b[0mTextReader\u001b[0m\u001b[0;34m(\u001b[0m\u001b[0msrc\u001b[0m\u001b[0;34m,\u001b[0m \u001b[0;34m**\u001b[0m\u001b[0mkwds\u001b[0m\u001b[0;34m)\u001b[0m\u001b[0;34m\u001b[0m\u001b[0m\n\u001b[0m\u001b[1;32m   1849\u001b[0m         \u001b[0mself\u001b[0m\u001b[0;34m.\u001b[0m\u001b[0munnamed_cols\u001b[0m \u001b[0;34m=\u001b[0m \u001b[0mself\u001b[0m\u001b[0;34m.\u001b[0m\u001b[0m_reader\u001b[0m\u001b[0;34m.\u001b[0m\u001b[0munnamed_cols\u001b[0m\u001b[0;34m\u001b[0m\u001b[0m\n\u001b[1;32m   1850\u001b[0m \u001b[0;34m\u001b[0m\u001b[0m\n",
      "\u001b[0;32mpandas/_libs/parsers.pyx\u001b[0m in \u001b[0;36mpandas._libs.parsers.TextReader.__cinit__\u001b[0;34m()\u001b[0m\n",
      "\u001b[0;32mpandas/_libs/parsers.pyx\u001b[0m in \u001b[0;36mpandas._libs.parsers.TextReader._setup_parser_source\u001b[0;34m()\u001b[0m\n",
      "\u001b[0;31mFileNotFoundError\u001b[0m: [Errno 2] File b'/var/folders/4j/sjbx9bj16538h292gjdpvrt00000gp/T/tmphix8omqk/ds000164/derivatives/NiBetaSeries/nibetaseries/sub-001/func/sub-001_task-stroop_bold_space-MNI152NLin2009cAsym_preproc_trialtype-congruent_matrix.tsv' does not exist: b'/var/folders/4j/sjbx9bj16538h292gjdpvrt00000gp/T/tmphix8omqk/ds000164/derivatives/NiBetaSeries/nibetaseries/sub-001/func/sub-001_task-stroop_bold_space-MNI152NLin2009cAsym_preproc_trialtype-congruent_matrix.tsv'"
     ]
    }
   ],
   "source": [
    "corr_mat_path = os.path.join(out_dir, \"NiBetaSeries\", \"nibetaseries\", \"sub-001\", \"func\")\n",
    "trial_types = ['congruent', 'incongruent', 'neutral']\n",
    "filename_template = \"sub-001_task-stroop_bold_space-MNI152NLin2009cAsym_preproc_trialtype-{trial_type}_matrix.tsv\"\n",
    "pd_dict = {}\n",
    "for trial_type in trial_types:\n",
    "    file_path = os.path.join(corr_mat_path, filename_template.format(trial_type=trial_type))\n",
    "    pd_dict[trial_type] = pd.read_csv(file_path, sep='\\t', na_values=\"n/a\", index_col=0)\n",
    "# display example matrix\n",
    "print(pd_dict[trial_type].head())"
   ]
  },
  {
   "cell_type": "markdown",
   "metadata": {},
   "source": [
    "Graph the results\n",
    "=================\n",
    "\n"
   ]
  },
  {
   "cell_type": "code",
   "execution_count": 16,
   "metadata": {},
   "outputs": [
    {
     "name": "stderr",
     "output_type": "stream",
     "text": [
      "/anaconda3/lib/python3.6/site-packages/matplotlib/figure.py:2267: UserWarning: This figure includes Axes that are not compatible with tight_layout, so results might be incorrect.\n",
      "  warnings.warn(\"This figure includes Axes that are not compatible \"\n"
     ]
    },
    {
     "data": {
      "image/png": "[encoded data removed]",
      "text/plain": [
       "<Figure size 720x2160 with 4 Axes>"
      ]
     },
     "metadata": {},
     "output_type": "display_data"
    }
   ],
   "source": [
    "fig, axes = plt.subplots(nrows=3, ncols=1, sharex=True, sharey=True, figsize=(10, 30),\n",
    "                         gridspec_kw={'wspace': 0.025, 'hspace': 0.075})\n",
    "\n",
    "cbar_ax = fig.add_axes([.91, .3, .03, .4])\n",
    "r = 0\n",
    "for trial_type, df in pd_dict.items():\n",
    "    g = sns.heatmap(df, ax=axes[r], vmin=-.5, vmax=1., square=True,\n",
    "                    cbar=True, cbar_ax=cbar_ax)\n",
    "    axes[r].set_title(trial_type)\n",
    "    # iterate over rows\n",
    "    r += 1\n",
    "plt.tight_layout()"
   ]
  },
  {
   "cell_type": "markdown",
   "metadata": {},
   "source": [
    "References\n",
    "==========\n",
    ".. bibliography:: ../references.bib\n",
    "   :style: plain\n",
    "   :labelprefix: notebook-\n",
    "   :keyprefix: n-\n",
    "\n",
    "\n"
   ]
  }
 ],
 "metadata": {
  "kernelspec": {
   "display_name": "Python 3",
   "language": "python",
   "name": "python3"
  },
  "language_info": {
   "codemirror_mode": {
    "name": "ipython",
    "version": 3
   },
   "file_extension": ".py",
   "mimetype": "text/x-python",
   "name": "python",
   "nbconvert_exporter": "python",
   "pygments_lexer": "ipython3",
   "version": "3.6.5"
  }
 },
 "nbformat": 4,
 "nbformat_minor": 1
}
